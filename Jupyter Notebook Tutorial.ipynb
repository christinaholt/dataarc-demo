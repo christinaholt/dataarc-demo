{
 "cells": [
  {
   "cell_type": "markdown",
   "metadata": {},
   "source": [
    "# DataARC Jupyter Notebook Tutorial\n",
    "\n",
    "Welcome!\n",
    "\n",
    "This tutorial is designed to quickly get you familiar with a few features of Jupyter notebooks, so that you can confidently explore the [DataArc Ecosystem Explorer](./dataarc_pyvis.ipynb) Jupyter notebook.\n",
    "\n",
    "## <span style=\"color:#81B605;\"> What is a Jupyter Notebook?</span>\n",
    "\n",
    "From the official documentation:\n",
    "\n",
    "> A Jupyter Notebook is an application that allows you to create and share documents that contain live code, visualizations and narrative text.\n",
    "\n",
    "\n",
    "After looking through the **six steps below**, you will know everything you will need to know in order to interact with the Visualization Demo Jupyter notebook.\n",
    "\n",
    "Follow the steps below to get acquainted with Jupyter notebooks!\n",
    "\n",
    "\n",
    "## Step 1: What you might see\n",
    "\n",
    "Let's get familiar with the different types of text you might see in the Visualization Demo Jupyter Notebook.\n",
    "\n",
    "- ### Instructions\n",
    "\n",
    "Instructions in the Visualization Demo Jupyter notebook will be labeled in either <span style=\"color:#81B605; font-size:14pt\"> **Green**</span> or black text.\n",
    "\n",
    "- ### Commands\n",
    "\n",
    "You may see text that looks like this:\n",
    "\n",
    "`Ctl + Enter`\n",
    "\n",
    "That style of text denotes a command you'll need to perform.\n",
    "\n",
    "- ### Code\n",
    "\n",
    "Finally, you'll also see sections of the notebook that contain code. These sections have a grey background, and look like the following:"
   ]
  },
  {
   "cell_type": "code",
   "execution_count": null,
   "metadata": {},
   "outputs": [],
   "source": [
    "def sum(a, b):\n",
    "    return a + b"
   ]
  },
  {
   "cell_type": "markdown",
   "metadata": {},
   "source": [
    "The Visualization Demo notebook is designed so that you will not need to modify any of the code.\n",
    "\n",
    "Sections of code may also contain **comments**, which look like the following:"
   ]
  },
  {
   "cell_type": "code",
   "execution_count": null,
   "metadata": {},
   "outputs": [],
   "source": [
    "# This is a comment\n",
    "# It will contain helpful information about the code"
   ]
  },
  {
   "cell_type": "markdown",
   "metadata": {},
   "source": [
    "## Step 2: Interacting with the notebook\n",
    "\n",
    "Now to the fun stuff!\n",
    "\n",
    "Each section in a Jupyter Notebook is called a **cell**.\n",
    "- Cells can contain different types of content, including code or explanatory text.\n",
    "- Cells with code in them will have grey backgrounds. \n",
    "- When selected, cells will have a colored border.\n",
    "\n",
    "\"Running\" a cell means to execute that section of the notebook. For example, let's try running a cell with some code in it.\n",
    "\n",
    "The cell below contains some code to greet a person by name.\n",
    "\n",
    "Click on the grey box below. You should see a green border appear around the cell.\n",
    "\n",
    "To run the cell, press `Ctl + Enter` (`Ctl + Return` on Macs).\n",
    "\n",
    "You should see output below the cell that says \"Hello, Bob\"."
   ]
  },
  {
   "cell_type": "code",
   "execution_count": null,
   "metadata": {},
   "outputs": [],
   "source": [
    "# Click Here\n",
    "\n",
    "def greet(name):\n",
    "    return \"Hello, \" + name\n",
    "\n",
    "greet(\"Bob\")"
   ]
  },
  {
   "cell_type": "markdown",
   "metadata": {},
   "source": [
    "Now, let's try changing what name will get printed. In the cell below, change \"Your name here\" to your name. Make sure you keep the quotation marks!\n",
    "\n",
    "Try running the cell again by pressing `Ctl + Enter`. What do you see?"
   ]
  },
  {
   "cell_type": "code",
   "execution_count": null,
   "metadata": {},
   "outputs": [],
   "source": [
    "# Click Here\n",
    "\n",
    "# Change Me\n",
    "my_name = \"Your name here\"\n",
    "\n",
    "# Don't Change Me\n",
    "def greet(name):\n",
    "    return \"Hello, \" + name\n",
    "\n",
    "greet(my_name)"
   ]
  },
  {
   "cell_type": "markdown",
   "metadata": {},
   "source": [
    "We will follow this pattern in the Visualization Demo notebook. \n",
    "\n",
    "You will see a <span style=\"color:#027979;font-style:italic;\">Change Me</span> comment in areas you can modify. \n",
    "\n",
    "You will see a <span style=\"color:#027979;font-style:italic;\">Don't Change Me</span> comment in areas of the code you don't need to modify in order to interact with the notebook."
   ]
  },
  {
   "cell_type": "markdown",
   "metadata": {},
   "source": [
    "## Step 3: Running the whole notebook\n",
    "\n",
    "Rather than running each cell individually, sometimes it's helpful to run all the cells at once.\n",
    "\n",
    "Jupyter notebooks have a **Run All** option that will run all of the cells in the notebook in turn. **Run All** will also jump you down to the bottom of the notebook, so you'll need to scroll back up to where you were after selecting it.\n",
    "\n",
    "Let's try using **Run All** now.\n",
    "\n",
    "Click on the **Cell** menu above and then choose **Run All**.\n",
    "\n",
    "Depending on the contents of the cell, sometimes the cell will take a while (~30 seconds) to run. While the cell is running, you will see an asterisk appear in the square brackets to the left of the cell.\n",
    "\n",
    "When the cell has finished running, you will see a number in the square brackets. This number indicates the order in which the cell ran."
   ]
  },
  {
   "cell_type": "markdown",
   "metadata": {},
   "source": [
    "## Step 4: Restarting the notebook\n",
    "\n",
    "If a cell takes a really long time to run (60 seconds and up), you can try restarting the notebook. \n",
    "\n",
    "Let's do that now just to get some practice.\n",
    "\n",
    "Go to the **Kernel** menu above and then choose **Restart & Run All**.\n",
    "\n",
    "\n",
    "You'll see a confirmation dialog come up. Click on the <span style=\"color:red;\">\"Restart and Run All Cells\"</span> button to proceed.\n",
    "\n",
    "Again, this will jump you down to the bottom of the notebook, so scroll back up here once you've run the command.\n"
   ]
  },
  {
   "cell_type": "markdown",
   "metadata": {},
   "source": [
    "## Step 5: Troubleshooting and navigation\n",
    "\n",
    "If you click once on a cell containing code, you'll see your cursor appear, and you'll be able to edit the cell.\n"
   ]
  },
  {
   "cell_type": "code",
   "execution_count": null,
   "metadata": {},
   "outputs": [],
   "source": [
    "# This is a cell containing code\n",
    "# If you click once on the cell, you can edit it\n",
    "\n",
    "# Try adding a comment below by replacing 'YOUR COMMENT HERE'.\n",
    "# Make sure you have a leading '#'!\n",
    "\n",
    "# YOUR COMMENT HERE\n",
    "\n",
    "def code_is_here():\n",
    "    return \"Some code!\""
   ]
  },
  {
   "cell_type": "markdown",
   "metadata": {},
   "source": [
    "\n",
    "If you click on a cell containing text, the cell will be highlighted, but it will stay in read-only mode.\n",
    "\n",
    "If you **double-click** on a cell containing text, the text cell will change from read-only to an editable mode. This might be surprising, since the appearance will change. To return to the read-only mode, you will need to run the cell.\n",
    "\n",
    "Let's try that with the text cell below.\n",
    "\n",
    "Double click the cell below to see what a text cell looks like in an editable state. Run the cell to return to a read-only state, by pressing `Ctl + Enter`.\n"
   ]
  },
  {
   "cell_type": "markdown",
   "metadata": {},
   "source": [
    "> Double click me!"
   ]
  },
  {
   "cell_type": "markdown",
   "metadata": {},
   "source": [
    "### Important Note\n",
    "\n",
    "Have fun experimenting!\n",
    "\n",
    "**You can't break this Jupyter notebook**, and you can always start over.\n",
    "\n",
    "If you've modified something that you're not sure how to change back, or just want to start over, you can re-launch the Jupyter notebook by clicking the \"Launch Binder\" button from the [project repository](https://github.com/aelydens/dataarc-demo).\n",
    "\n",
    "![Launch Binder Button](launch-binder.jpg)"
   ]
  },
  {
   "cell_type": "markdown",
   "metadata": {},
   "source": [
    "## Step 6: Saving your work\n",
    "\n",
    "The DataArc Jupyter notebooks are designed to be a playground, so your changes **will not be saved**.\n",
    "\n",
    "If you've done something particularly brilliant you'd like to hang on to, you can download a copy of your work.\n",
    "\n",
    "To do that, click on the **File** menu above, and hover over **Download As**. \n",
    "\n",
    "You'll see a few options for the download format. We'd recommend either downloading as **HTML (.html)**, which you can print as a PDF, or selecting **Notebook (.ipynb)**, which will download a new Jupyter notebook for you with your changes. The latter is a good choice if you'd like to continue building on your work.\n",
    "\n",
    "Running your newly-downloaded Jupyter notebook is outside the scope of this tutorial, but the official Jupyter notebook documentation has lots of good information on [how to get started with running a notebook yourself](https://jupyter.readthedocs.io/en/latest/tryjupyter.html)."
   ]
  },
  {
   "cell_type": "markdown",
   "metadata": {},
   "source": [
    "# Congratulations!\n",
    "\n",
    "You now know the basics of interacting with Jupyter notebooks.\n",
    "\n",
    "You now have all the skills you need to [explore the DataArc Visualization Demo Jupyter notebook](./dataarc_pyvis.ipynb)."
   ]
  },
  {
   "cell_type": "code",
   "execution_count": null,
   "metadata": {},
   "outputs": [],
   "source": []
  }
 ],
 "metadata": {
  "kernelspec": {
   "display_name": "Python 3",
   "language": "python",
   "name": "python3"
  },
  "language_info": {
   "codemirror_mode": {
    "name": "ipython",
    "version": 3
   },
   "file_extension": ".py",
   "mimetype": "text/x-python",
   "name": "python",
   "nbconvert_exporter": "python",
   "pygments_lexer": "ipython3",
   "version": "3.6.2"
  }
 },
 "nbformat": 4,
 "nbformat_minor": 4
}
